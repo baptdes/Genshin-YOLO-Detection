{
  "cells": [
    {
      "cell_type": "markdown",
      "metadata": {
        "id": "zsv9eEEeK0xS"
      },
      "source": [
        "# Genshin YOLO detection Training Notebook\n",
        "\n",
        "In this notebook, you will see how we train the Ultralytics YOLOv11 model to detect the most important elements visible in Genshin Impact. _(This notebook is designed for Google Colab but can be run anywhere with some adjustments)_\n",
        "\n",
        "**First, let's verify that we have a GPU active**"
      ]
    },
    {
      "cell_type": "code",
      "execution_count": 1,
      "metadata": {
        "id": "P2oqyJgkBXC-",
        "outputId": "c655fb81-6cd3-47e5-b761-354ae76254e9",
        "colab": {
          "base_uri": "https://localhost:8080/"
        }
      },
      "outputs": [
        {
          "output_type": "stream",
          "name": "stdout",
          "text": [
            "/bin/bash: line 1: nvidia-smi: command not found\n"
          ]
        }
      ],
      "source": [
        "!nvidia-smi"
      ]
    },
    {
      "cell_type": "markdown",
      "metadata": {
        "id": "Xq2mcIIMMbXh"
      },
      "source": [
        "We will use YOLOv11 (by Ultralytics), so we have to **install Ultralytics**"
      ]
    },
    {
      "cell_type": "code",
      "execution_count": 2,
      "metadata": {
        "id": "7-C9sBWRMbXi",
        "colab": {
          "base_uri": "https://localhost:8080/"
        },
        "outputId": "97cc0887-5723-4363-e79e-0bff9388c829"
      },
      "outputs": [
        {
          "output_type": "stream",
          "name": "stdout",
          "text": [
            "\u001b[2K   \u001b[90m━━━━━━━━━━━━━━━━━━━━━━━━━━━━━━━━━━━━━━━━\u001b[0m \u001b[32m977.3/977.3 kB\u001b[0m \u001b[31m16.0 MB/s\u001b[0m eta \u001b[36m0:00:00\u001b[0m\n",
            "\u001b[2K   \u001b[90m━━━━━━━━━━━━━━━━━━━━━━━━━━━━━━━━━━━━━━━━\u001b[0m \u001b[32m363.4/363.4 MB\u001b[0m \u001b[31m3.5 MB/s\u001b[0m eta \u001b[36m0:00:00\u001b[0m\n",
            "\u001b[2K   \u001b[90m━━━━━━━━━━━━━━━━━━━━━━━━━━━━━━━━━━━━━━━━\u001b[0m \u001b[32m13.8/13.8 MB\u001b[0m \u001b[31m53.5 MB/s\u001b[0m eta \u001b[36m0:00:00\u001b[0m\n",
            "\u001b[2K   \u001b[90m━━━━━━━━━━━━━━━━━━━━━━━━━━━━━━━━━━━━━━━━\u001b[0m \u001b[32m24.6/24.6 MB\u001b[0m \u001b[31m50.3 MB/s\u001b[0m eta \u001b[36m0:00:00\u001b[0m\n",
            "\u001b[2K   \u001b[90m━━━━━━━━━━━━━━━━━━━━━━━━━━━━━━━━━━━━━━━━\u001b[0m \u001b[32m883.7/883.7 kB\u001b[0m \u001b[31m40.2 MB/s\u001b[0m eta \u001b[36m0:00:00\u001b[0m\n",
            "\u001b[2K   \u001b[90m━━━━━━━━━━━━━━━━━━━━━━━━━━━━━━━━━━━━━━━━\u001b[0m \u001b[32m664.8/664.8 MB\u001b[0m \u001b[31m2.7 MB/s\u001b[0m eta \u001b[36m0:00:00\u001b[0m\n",
            "\u001b[2K   \u001b[91m━━━━━━━━━━━━━━━━━━━━━━━━━━━━━━━━━━━━━━\u001b[0m\u001b[91m╸\u001b[0m\u001b[90m━\u001b[0m \u001b[32m205.2/211.5 MB\u001b[0m \u001b[31m150.3 MB/s\u001b[0m eta \u001b[36m0:00:01\u001b[0m\u001b[31mERROR: Operation cancelled by user\u001b[0m\u001b[31m\n",
            "\u001b[2K   \u001b[91m━━━━━━━━━━━━━━━━━━━━━━━━━━━━━━━━━━━━━━\u001b[0m\u001b[91m╸\u001b[0m\u001b[90m━\u001b[0m \u001b[32m205.2/211.5 MB\u001b[0m \u001b[31m150.3 MB/s\u001b[0m eta \u001b[36m0:00:01\u001b[0m\n",
            "\u001b[?25h"
          ]
        }
      ],
      "source": [
        "!pip install -q ultralytics"
      ]
    },
    {
      "cell_type": "markdown",
      "metadata": {
        "id": "8lNYw-7LA-fP"
      },
      "source": [
        "# Get the data set from Github"
      ]
    },
    {
      "cell_type": "code",
      "source": [
        "!gdown --id 1JWCtKMSU9UaRoWGFQDeyiBJRaWCYkjxK"
      ],
      "metadata": {
        "colab": {
          "base_uri": "https://localhost:8080/"
        },
        "id": "6p5C7Kpm1n72",
        "outputId": "179fd237-60e1-4502-cb30-873aa0ec6f54"
      },
      "execution_count": 3,
      "outputs": [
        {
          "output_type": "stream",
          "name": "stdout",
          "text": [
            "/usr/local/lib/python3.11/dist-packages/gdown/__main__.py:140: FutureWarning: Option `--id` was deprecated in version 4.3.1 and will be removed in 5.0. You don't need to pass it anymore to use a file ID.\n",
            "  warnings.warn(\n",
            "Downloading...\n",
            "From (original): https://drive.google.com/uc?id=1JWCtKMSU9UaRoWGFQDeyiBJRaWCYkjxK\n",
            "From (redirected): https://drive.google.com/uc?id=1JWCtKMSU9UaRoWGFQDeyiBJRaWCYkjxK&confirm=t&uuid=c5484a6c-c403-4087-89e4-bc1dd95ba854\n",
            "To: /content/data.zip\n",
            "100% 4.66G/4.66G [01:21<00:00, 57.4MB/s]\n"
          ]
        }
      ]
    },
    {
      "cell_type": "code",
      "execution_count": 4,
      "metadata": {
        "id": "g7i5yN6UM9HE"
      },
      "outputs": [],
      "source": [
        "!unzip -qq data.zip -d /content/dataset\n",
        "\n",
        "DATASET_PATH = '/content/dataset'\n",
        "DATA_PATH = '/content/data.yaml'"
      ]
    },
    {
      "cell_type": "markdown",
      "metadata": {
        "id": "e-5coy0xMbXj"
      },
      "source": [
        "# Create data.yaml\n",
        "\n",
        "As we used LabelStudio to labelise our DataSet, we have a file ```classes.txt``` in our dataset and not a file ```data.yaml``` that is necessary to train our YOLO model. So, **let's create the file ```data.yaml```** using the file ```classes.txt```"
      ]
    },
    {
      "cell_type": "code",
      "execution_count": 5,
      "metadata": {
        "id": "Q0b42Jp-MbXk",
        "outputId": "e05b85a8-9b04-4ee9-9c87-e42b9d2fe050",
        "colab": {
          "base_uri": "https://localhost:8080/"
        }
      },
      "outputs": [
        {
          "output_type": "stream",
          "name": "stdout",
          "text": [
            "Created config file at /content/data.yaml\n",
            "\n",
            "File contents:\n",
            "\n",
            "nc: 14\n",
            "names:\n",
            "- Automaton\n",
            "- Chest\n",
            "- Fairy\n",
            "- Fatui\n",
            "- Flying Animal\n",
            "- Hilichurl\n",
            "- NPC\n",
            "- Ore\n",
            "- Playable Character\n",
            "- Slime\n",
            "- Statue of The Seven\n",
            "- Terrestrial Animal\n",
            "- The Abyss\n",
            "- Waypoint\n"
          ]
        }
      ],
      "source": [
        "import yaml\n",
        "import os\n",
        "\n",
        "def create_data_yaml(path_to_classes_txt, path_to_data_yaml):\n",
        "\n",
        "  # Read class.txt to get class names and index\n",
        "  if not os.path.exists(path_to_classes_txt):\n",
        "    print(f'classes.txt file not found! Please create a classes.txt labelmap and move it to {path_to_classes_txt}')\n",
        "    return\n",
        "  with open(path_to_classes_txt, 'r') as f:\n",
        "    classes = []\n",
        "    for line in f.readlines():\n",
        "      if len(line.strip()) == 0: continue\n",
        "      classes.append(line.strip())\n",
        "  number_of_classes = len(classes)\n",
        "\n",
        "  # Write data to YAML file\n",
        "  data = {\n",
        "      'nc': number_of_classes,\n",
        "      'names': classes\n",
        "  }\n",
        "  with open(path_to_data_yaml, 'w') as f:\n",
        "    yaml.dump(data, f, sort_keys=False)\n",
        "  print(f'Created config file at {path_to_data_yaml}')\n",
        "\n",
        "  return\n",
        "\n",
        "# Define path to classes.txt and run function\n",
        "path_to_classes_txt = '/content/dataset/classes.txt'\n",
        "path_to_data_yaml = '/content/data.yaml'\n",
        "\n",
        "create_data_yaml(path_to_classes_txt, path_to_data_yaml)\n",
        "\n",
        "print('\\nFile contents:\\n')\n",
        "!cat /content/data.yaml"
      ]
    },
    {
      "cell_type": "markdown",
      "metadata": {
        "id": "335a1Q7vMbXm"
      },
      "source": [
        "# Split the data set\n",
        "\n",
        "Now that we have our data and classes, we can split our data set into 3 subsets :\n",
        "* Training set : Used to train the model.\n",
        "* Validation set : Used to tune hyperparameters and prevent overfitting.\n",
        "* Test set : Used to evaluate the final performance of the model.\n",
        "\n",
        "For now, we are doing a random split to do that, but we are thinking of doing a stratified split based on this [article](https://jaidevd.com/posts/obj-detection-stratification/)\n",
        "\n",
        "**First, we need to create a feature vector for each image to track the number of instances of each class present in the image**\n",
        "\n",
        "## Feature Vectors"
      ]
    },
    {
      "cell_type": "code",
      "execution_count": 6,
      "metadata": {
        "id": "xLd5aZAPDyvm",
        "outputId": "71d2d9eb-a8a3-4007-b3b6-c608010c6e54",
        "colab": {
          "base_uri": "https://localhost:8080/",
          "height": 542
        }
      },
      "outputs": [
        {
          "output_type": "stream",
          "name": "stderr",
          "text": [
            "<ipython-input-6-80220264edc8>:34: FutureWarning: Downcasting object dtype arrays on .fillna, .ffill, .bfill is deprecated and will change in a future version. Call result.infer_objects(copy=False) instead. To opt-in to the future behavior, set `pd.set_option('future.no_silent_downcasting', True)`\n",
            "  labels_df = labels_df.fillna(0).infer_objects(copy=False).astype(int)\n"
          ]
        },
        {
          "output_type": "display_data",
          "data": {
            "text/plain": [
              "<Figure size 1000x600 with 1 Axes>"
            ],
            "image/png": "[encoded data removed]"
          },
          "metadata": {}
        },
        {
          "output_type": "execute_result",
          "data": {
            "text/plain": [
              "3422"
            ]
          },
          "metadata": {},
          "execution_count": 6
        }
      ],
      "source": [
        "import os\n",
        "import shutil\n",
        "import yaml\n",
        "import pandas as pd\n",
        "from pathlib import Path\n",
        "from collections import Counter\n",
        "from sklearn.model_selection import train_test_split\n",
        "\n",
        "# ========================== Load Dataset and YAML ==================================\n",
        "dataset_path = Path(DATASET_PATH)\n",
        "labels = sorted(dataset_path.rglob(\"labels/*.txt\"))  # All label files\n",
        "\n",
        "yaml_file = DATA_PATH\n",
        "with open(yaml_file, encoding=\"utf8\") as y:\n",
        "    classes = yaml.safe_load(y)[\"names\"]  # YOLO class names\n",
        "\n",
        "cls_idx = list(range(len(classes)))  # Class indices\n",
        "\n",
        "# ============== Create Feature Vectors (Number of classes per image) ===============\n",
        "index = [label.stem for label in labels]  # Use filenames (without extension) as IDs\n",
        "labels_df = pd.DataFrame([], columns=cls_idx, index=index)\n",
        "\n",
        "for label in labels:\n",
        "    lbl_counter = Counter()\n",
        "\n",
        "    with open(label) as lf:\n",
        "        lines = lf.readlines()\n",
        "\n",
        "    for line in lines:\n",
        "        lbl_counter[int(line.split(\" \")[0])] += 1  # Extract YOLO class index\n",
        "\n",
        "    labels_df.loc[label.stem] = lbl_counter\n",
        "\n",
        "labels_df = labels_df.fillna(0).infer_objects(copy=False).astype(int)\n",
        "\n",
        "import matplotlib.pyplot as plt\n",
        "\n",
        "class_instances = labels_df.sum(axis=0)\n",
        "class_names = [classes[idx] for idx in class_instances.index]\n",
        "\n",
        "# Plot horizontal bar chart\n",
        "plt.figure(figsize=(10, 6))\n",
        "plt.barh(class_names, class_instances, color=\"skyblue\")\n",
        "plt.xlabel(\"Number of Instances\")\n",
        "plt.ylabel(\"Class Names\")\n",
        "plt.title(\"Instances per Class\")\n",
        "plt.gca().invert_yaxis()\n",
        "plt.grid(axis=\"x\", linestyle=\"--\", alpha=0.7)\n",
        "plt.show()\n",
        "\n",
        "sum(class_instances)"
      ]
    },
    {
      "cell_type": "markdown",
      "metadata": {
        "id": "4_c-3zbZETne"
      },
      "source": [
        "Now, we can split the dataset using these feature vectors\n",
        "## Split"
      ]
    },
    {
      "cell_type": "code",
      "source": [
        "validation_size = 0.15\n",
        "test_size = 0.10\n",
        "train_size = 1 - validation_size - test_size\n",
        "\n",
        "# =============== Split Dataset into Train, Validation, and Test ====================\n",
        "def split_dataset(labels_df, dataset_path, train_ratio=0.8, val_ratio=0.1, test_ratio=0.1, verbose=True):\n",
        "    \"\"\"\n",
        "    Splits the dataset into train, validation, and test sets based on the provided ratios.\n",
        "    Starting from the classes with less instances and in increasing order to ensure that the split respects the ratio.\n",
        "    \"\"\"\n",
        "    assert train_ratio + val_ratio + test_ratio == 1, \"Ratios must sum to 1\"\n",
        "\n",
        "    # Sort classes by number of instances (ascending order)\n",
        "    sorted_index = class_instances.sort_values().index.tolist()\n",
        "    train_ids, val_ids, test_ids = [], [], []\n",
        "\n",
        "    for cls in sorted_index:\n",
        "        cls_ids = labels_df[labels_df[cls] > 0].index.tolist()\n",
        "        cls_train_ids, cls_temp_ids = train_test_split(cls_ids, train_size=train_ratio, random_state=42)\n",
        "        cls_val_ids, cls_test_ids = train_test_split(cls_temp_ids, train_size=test_ratio / (val_ratio + test_ratio), random_state=42)\n",
        "\n",
        "        train_ids.extend(cls_train_ids)\n",
        "        val_ids.extend(cls_val_ids)\n",
        "        test_ids.extend(cls_test_ids)\n",
        "\n",
        "    # Remove duplicates between train, val, and test sets\n",
        "    # with some order magic to keep ratios\n",
        "    if train_ratio > val_ratio and train_ratio > test_ratio:\n",
        "        train_ids = list(set(train_ids) - set(val_ids))\n",
        "        val_ids = list(set(val_ids) - set(train_ids) - set(test_ids))\n",
        "        test_ids = list(set(test_ids) - set(train_ids) - set(val_ids))\n",
        "    else:\n",
        "        val_ids = list(set(val_ids) - set(train_ids))\n",
        "        train_ids = list(set(train_ids) - set(val_ids) - set(test_ids))\n",
        "        test_ids = list(set(test_ids) - set(train_ids) - set(val_ids))\n",
        "\n",
        "    if verbose:\n",
        "        train_instances = labels_df.loc[train_ids,:].sum().sum()\n",
        "        val_instances = labels_df.loc[val_ids,:].sum().sum()\n",
        "        test_instances = labels_df.loc[test_ids,:].sum().sum()\n",
        "        total_instances = train_instances + val_instances + test_instances\n",
        "        total_train = len(train_ids)\n",
        "        total_val = len(val_ids)\n",
        "        total_test = len(test_ids)\n",
        "        total = total_train + total_val + total_test\n",
        "\n",
        "        print(\"\\nWanted split:\")\n",
        "        print(f\"Train samples: {total * train_ratio} ({train_ratio:.2%})\")\n",
        "        print(f\"Validation samples: {total * val_ratio} ({val_ratio:.2%})\")\n",
        "        print(f\"Test samples: {total * test_ratio} ({test_ratio:.2%})\")\n",
        "\n",
        "        # Distribution of instances\n",
        "        print(\"\\nInstance distribution per set:\")\n",
        "        print(f\"Train instances: {train_instances} ({train_instances / total_instances:.2%})\")\n",
        "        print(f\"Validation instances: {val_instances} ({val_instances / total_instances:.2%})\")\n",
        "        print(f\"Test instances: {test_instances} ({test_instances / total_instances:.2%})\")\n",
        "\n",
        "        # Distribution of images\n",
        "        print(f\"\\nTotal images: {total}\")\n",
        "        print(\"\\nImage split:\")\n",
        "        print(f\"Train samples: {total_train} ({total_train / total:.2%})\")\n",
        "        print(f\"Validation samples: {total_val} ({total_val / total:.2%})\")\n",
        "        print(f\"Test samples: {total_test} ({total_test / total:.2%})\")\n",
        "\n",
        "    return train_ids, val_ids, test_ids\n",
        "\n",
        "train_files, val_files, test_files = split_dataset(labels_df, dataset_path,train_ratio=train_size,val_ratio=validation_size,test_ratio=test_size,verbose=True)\n"
      ],
      "metadata": {
        "id": "bUJzy8t59CIs",
        "outputId": "f555341f-9643-4594-ef11-868df8edfa77",
        "colab": {
          "base_uri": "https://localhost:8080/"
        }
      },
      "execution_count": 62,
      "outputs": [
        {
          "output_type": "stream",
          "name": "stdout",
          "text": [
            "\n",
            "Wanted split:\n",
            "Train samples: 868.5 (75.00%)\n",
            "Validation samples: 173.7 (15.00%)\n",
            "Test samples: 115.80000000000001 (10.00%)\n",
            "\n",
            "Instance distribution per set:\n",
            "Train instances: 2590 (75.69%)\n",
            "Validation instances: 536 (15.66%)\n",
            "Test instances: 296 (8.65%)\n",
            "\n",
            "Total images: 1158\n",
            "\n",
            "Image split:\n",
            "Train samples: 887 (76.60%)\n",
            "Validation samples: 170 (14.68%)\n",
            "Test samples: 101 (8.72%)\n"
          ]
        }
      ]
    },
    {
      "cell_type": "code",
      "execution_count": null,
      "metadata": {
        "id": "OMbcN16yMbXp",
        "outputId": "f1532032-fd73-4b7f-d80d-e4ed6a6430ce",
        "colab": {
          "base_uri": "https://localhost:8080/"
        }
      },
      "outputs": [
        {
          "output_type": "stream",
          "name": "stdout",
          "text": [
            "Dataset successfully split into train, val, and test with stratified distribution.\n"
          ]
        }
      ],
      "source": [
        "# ============================ Random Split ==================================\n",
        "validation_size = 0.15\n",
        "test_size = 0.10\n",
        "\n",
        "\n",
        "train_files, temp_files = train_test_split(\n",
        "    labels_df.index, test_size= validation_size + test_size, random_state=42\n",
        ")\n",
        "\n",
        "test_size = test_size / (validation_size + test_size)\n",
        "val_files, test_files = train_test_split(\n",
        "    temp_files, test_size=test_size, random_state=42\n",
        ")"
      ]
    },
    {
      "cell_type": "code",
      "source": [
        "# ======================= Create output folder =============================\n",
        "output_path = Path(\"split_dataset\")\n",
        "for split in [\"train\", \"val\", \"test\"]:\n",
        "    (output_path / split / \"images\").mkdir(parents=True, exist_ok=True)\n",
        "    (output_path / split / \"labels\").mkdir(parents=True, exist_ok=True)\n",
        "\n",
        "def move_files(files, split):\n",
        "    for file in files:\n",
        "        src_img = dataset_path / f\"images/{file}.png\"\n",
        "        src_lbl = dataset_path / f\"labels/{file}.txt\"\n",
        "\n",
        "        dst_img = output_path / split / \"images\" / f\"{file}.png\"\n",
        "        dst_lbl = output_path / split / \"labels\" / f\"{file}.txt\"\n",
        "\n",
        "        if src_img.exists():\n",
        "            shutil.copy(src_img, dst_img)\n",
        "        if src_lbl.exists():\n",
        "            shutil.copy(src_lbl, dst_lbl)\n",
        "\n",
        "move_files(train_files, \"train\")\n",
        "move_files(val_files, \"val\")\n",
        "move_files(test_files, \"test\")\n",
        "\n",
        "# ======================= Create data_split.yaml =============================\n",
        "yaml_content = {\n",
        "    \"train\": str(\"train\"),\n",
        "    \"val\": str(\"val\"),\n",
        "    \"test\": str(\"test\"),\n",
        "    \"nc\": len(classes),\n",
        "    \"names\": classes,\n",
        "}\n",
        "\n",
        "with open(output_path / \"data_split.yaml\", \"w\") as f:\n",
        "    yaml.dump(yaml_content, f)\n",
        "\n",
        "print(\"Dataset successfully split into train, val, and test with stratified distribution.\")"
      ],
      "metadata": {
        "id": "W5B_oeE9L-FO",
        "outputId": "638b9271-a6f0-4675-f599-1f4715a37cf5",
        "colab": {
          "base_uri": "https://localhost:8080/"
        }
      },
      "execution_count": 63,
      "outputs": [
        {
          "output_type": "stream",
          "name": "stdout",
          "text": [
            "Dataset successfully split into train, val, and test with stratified distribution.\n"
          ]
        }
      ]
    },
    {
      "cell_type": "markdown",
      "metadata": {
        "id": "p-y6NgbSMbXq"
      },
      "source": [
        "## Split distributions\n",
        "\n",
        "Is our split good ? Let's see that"
      ]
    },
    {
      "cell_type": "code",
      "execution_count": 72,
      "metadata": {
        "id": "17IV39fhMbXq",
        "outputId": "d52a54e6-8f87-42f9-b5fa-cc60541a7df2",
        "colab": {
          "base_uri": "https://localhost:8080/",
          "height": 517
        }
      },
      "outputs": [
        {
          "output_type": "display_data",
          "data": {
            "text/plain": [
              "<Figure size 1200x800 with 1 Axes>"
            ],
            "image/png": "[encoded data removed]"
          },
          "metadata": {}
        }
      ],
      "source": [
        "# ===================== Plot Split Distributions =====================\n",
        "import numpy as np\n",
        "\n",
        "# Function to compute class densities (proportions)\n",
        "def compute_class_densities(file_list):\n",
        "    subset_df = labels_df.loc[file_list]  # Filter dataset for the split\n",
        "    class_counts = subset_df.sum(axis=0)  # Get total instances per class\n",
        "    total_instances = labels_df.sum(axis=0)  # Sum across all classes\n",
        "\n",
        "    class_densities = np.zeros(len(classes))\n",
        "    for i in range(len(classes)):\n",
        "        if total_instances[i] != 0: # Avoid 0-Div\n",
        "            class_densities[i] = class_counts[i] / total_instances[i]\n",
        "        else:\n",
        "            class_densities[i] = 0\n",
        "    return class_densities\n",
        "\n",
        "# Compute densities for each split\n",
        "train_densities = compute_class_densities(train_files)\n",
        "val_densities = compute_class_densities(val_files)\n",
        "test_densities = compute_class_densities(test_files)\n",
        "\n",
        "# Create a horizontal bar chart with normalized densities\n",
        "y = np.arange(len(classes))  # Class indices\n",
        "width = 0.25  # Bar width\n",
        "\n",
        "plt.figure(figsize=(12, 8))\n",
        "\n",
        "# Plot the bars horizontally\n",
        "plt.barh(y - width, train_densities, height=width, label=\"Train\", color=\"blue\", alpha=0.7)\n",
        "plt.barh(y, val_densities, height=width, label=\"Validation\", color=\"orange\", alpha=0.7)\n",
        "plt.barh(y + width, test_densities, height=width, label=\"Test\", color=\"green\", alpha=0.7)\n",
        "\n",
        "# Add labels and title\n",
        "plt.ylabel(\"Class Names\")\n",
        "plt.xlabel(\"Proportion\")\n",
        "plt.title(\"Normalized Class Distribution in Train, Validation, and Test Sets\")\n",
        "plt.yticks(ticks=y, labels=classes)  # Set class names on the y-axis\n",
        "plt.legend()\n",
        "plt.grid(axis=\"x\", linestyle=\"--\", alpha=0.7)\n",
        "\n",
        "# Show the plot\n",
        "plt.show()"
      ]
    },
    {
      "cell_type": "markdown",
      "metadata": {
        "id": "PZswgJQ1MbXq"
      },
      "source": [
        "# Old code for training"
      ]
    },
    {
      "cell_type": "code",
      "execution_count": null,
      "metadata": {
        "id": "a0QYOQK0EY91",
        "colab": {
          "base_uri": "https://localhost:8080/"
        },
        "outputId": "ee543ea4-3d8f-4234-8888-74c39e20e285"
      },
      "outputs": [
        {
          "output_type": "stream",
          "name": "stdout",
          "text": [
            "Ultralytics 8.3.101 🚀 Python-3.11.11 torch-2.6.0+cu124 CUDA:0 (Tesla T4, 15095MiB)\n",
            "\u001b[34m\u001b[1mengine/trainer: \u001b[0mtask=detect, mode=train, model=yolo11n.pt, data=/content/split_dataset/data_split.yaml, epochs=20, time=None, patience=100, batch=16, imgsz=640, save=True, save_period=-1, cache=False, device=None, workers=8, project=None, name=train2, exist_ok=False, pretrained=True, optimizer=auto, verbose=True, seed=0, deterministic=True, single_cls=False, rect=False, cos_lr=False, close_mosaic=10, resume=False, amp=True, fraction=1.0, profile=False, freeze=None, multi_scale=False, overlap_mask=True, mask_ratio=4, dropout=0.0, val=True, split=val, save_json=False, save_hybrid=False, conf=None, iou=0.7, max_det=300, half=False, dnn=False, plots=True, source=None, vid_stride=1, stream_buffer=False, visualize=False, augment=False, agnostic_nms=False, classes=None, retina_masks=False, embed=None, show=False, save_frames=False, save_txt=False, save_conf=False, save_crop=False, show_labels=True, show_conf=True, show_boxes=True, line_width=None, format=torchscript, keras=False, optimize=False, int8=False, dynamic=False, simplify=True, opset=None, workspace=None, nms=False, lr0=0.01, lrf=0.01, momentum=0.937, weight_decay=0.0005, warmup_epochs=3.0, warmup_momentum=0.8, warmup_bias_lr=0.1, box=7.5, cls=0.5, dfl=1.5, pose=12.0, kobj=1.0, nbs=64, hsv_h=0.015, hsv_s=0.7, hsv_v=0.4, degrees=0.0, translate=0.1, scale=0.5, shear=0.0, perspective=0.0, flipud=0.0, fliplr=0.5, bgr=0.0, mosaic=1.0, mixup=0.0, copy_paste=0.0, copy_paste_mode=flip, auto_augment=randaugment, erasing=0.4, crop_fraction=1.0, cfg=None, tracker=botsort.yaml, save_dir=runs/detect/train2\n",
            "Downloading https://ultralytics.com/assets/Arial.ttf to '/root/.config/Ultralytics/Arial.ttf'...\n",
            "100% 755k/755k [00:00<00:00, 21.0MB/s]\n",
            "WARNING: All log messages before absl::InitializeLog() is called are written to STDERR\n",
            "E0000 00:00:1743772902.673625    9230 cuda_dnn.cc:8310] Unable to register cuDNN factory: Attempting to register factory for plugin cuDNN when one has already been registered\n",
            "E0000 00:00:1743772902.741976    9230 cuda_blas.cc:1418] Unable to register cuBLAS factory: Attempting to register factory for plugin cuBLAS when one has already been registered\n",
            "Overriding model.yaml nc=80 with nc=14\n",
            "\n",
            "                   from  n    params  module                                       arguments                     \n",
            "  0                  -1  1       464  ultralytics.nn.modules.conv.Conv             [3, 16, 3, 2]                 \n",
            "  1                  -1  1      4672  ultralytics.nn.modules.conv.Conv             [16, 32, 3, 2]                \n",
            "  2                  -1  1      6640  ultralytics.nn.modules.block.C3k2            [32, 64, 1, False, 0.25]      \n",
            "  3                  -1  1     36992  ultralytics.nn.modules.conv.Conv             [64, 64, 3, 2]                \n",
            "  4                  -1  1     26080  ultralytics.nn.modules.block.C3k2            [64, 128, 1, False, 0.25]     \n",
            "  5                  -1  1    147712  ultralytics.nn.modules.conv.Conv             [128, 128, 3, 2]              \n",
            "  6                  -1  1     87040  ultralytics.nn.modules.block.C3k2            [128, 128, 1, True]           \n",
            "  7                  -1  1    295424  ultralytics.nn.modules.conv.Conv             [128, 256, 3, 2]              \n",
            "  8                  -1  1    346112  ultralytics.nn.modules.block.C3k2            [256, 256, 1, True]           \n",
            "  9                  -1  1    164608  ultralytics.nn.modules.block.SPPF            [256, 256, 5]                 \n",
            " 10                  -1  1    249728  ultralytics.nn.modules.block.C2PSA           [256, 256, 1]                 \n",
            " 11                  -1  1         0  torch.nn.modules.upsampling.Upsample         [None, 2, 'nearest']          \n",
            " 12             [-1, 6]  1         0  ultralytics.nn.modules.conv.Concat           [1]                           \n",
            " 13                  -1  1    111296  ultralytics.nn.modules.block.C3k2            [384, 128, 1, False]          \n",
            " 14                  -1  1         0  torch.nn.modules.upsampling.Upsample         [None, 2, 'nearest']          \n",
            " 15             [-1, 4]  1         0  ultralytics.nn.modules.conv.Concat           [1]                           \n",
            " 16                  -1  1     32096  ultralytics.nn.modules.block.C3k2            [256, 64, 1, False]           \n",
            " 17                  -1  1     36992  ultralytics.nn.modules.conv.Conv             [64, 64, 3, 2]                \n",
            " 18            [-1, 13]  1         0  ultralytics.nn.modules.conv.Concat           [1]                           \n",
            " 19                  -1  1     86720  ultralytics.nn.modules.block.C3k2            [192, 128, 1, False]          \n",
            " 20                  -1  1    147712  ultralytics.nn.modules.conv.Conv             [128, 128, 3, 2]              \n",
            " 21            [-1, 10]  1         0  ultralytics.nn.modules.conv.Concat           [1]                           \n",
            " 22                  -1  1    378880  ultralytics.nn.modules.block.C3k2            [384, 256, 1, True]           \n",
            " 23        [16, 19, 22]  1    433402  ultralytics.nn.modules.head.Detect           [14, [64, 128, 256]]          \n",
            "YOLO11n summary: 181 layers, 2,592,570 parameters, 2,592,554 gradients, 6.5 GFLOPs\n",
            "\n",
            "Transferred 448/499 items from pretrained weights\n",
            "\u001b[34m\u001b[1mTensorBoard: \u001b[0mStart with 'tensorboard --logdir runs/detect/train2', view at http://localhost:6006/\n",
            "Freezing layer 'model.23.dfl.conv.weight'\n",
            "\u001b[34m\u001b[1mAMP: \u001b[0mrunning Automatic Mixed Precision (AMP) checks...\n",
            "\u001b[34m\u001b[1mAMP: \u001b[0mchecks passed ✅\n",
            "\u001b[34m\u001b[1mtrain: \u001b[0mScanning /content/split_dataset/train/labels... 839 images, 0 backgrounds, 0 corrupt: 100% 839/839 [00:18<00:00, 45.46it/s]\n",
            "\u001b[34m\u001b[1mtrain: \u001b[0mNew cache created: /content/split_dataset/train/labels.cache\n",
            "\u001b[34m\u001b[1malbumentations: \u001b[0mBlur(p=0.01, blur_limit=(3, 7)), MedianBlur(p=0.01, blur_limit=(3, 7)), ToGray(p=0.01, num_output_channels=3, method='weighted_average'), CLAHE(p=0.01, clip_limit=(1.0, 4.0), tile_grid_size=(8, 8))\n",
            "\u001b[34m\u001b[1mval: \u001b[0mScanning /content/split_dataset/val/labels... 172 images, 0 backgrounds, 0 corrupt: 100% 172/172 [00:04<00:00, 42.69it/s]\n",
            "\u001b[34m\u001b[1mval: \u001b[0mNew cache created: /content/split_dataset/val/labels.cache\n",
            "Plotting labels to runs/detect/train2/labels.jpg... \n",
            "\u001b[34m\u001b[1moptimizer:\u001b[0m 'optimizer=auto' found, ignoring 'lr0=0.01' and 'momentum=0.937' and determining best 'optimizer', 'lr0' and 'momentum' automatically... \n",
            "\u001b[34m\u001b[1moptimizer:\u001b[0m AdamW(lr=0.000556, momentum=0.9) with parameter groups 81 weight(decay=0.0), 88 weight(decay=0.0005), 87 bias(decay=0.0)\n",
            "\u001b[34m\u001b[1mTensorBoard: \u001b[0mmodel graph visualization added ✅\n",
            "Image sizes 640 train, 640 val\n",
            "Using 2 dataloader workers\n",
            "Logging results to \u001b[1mruns/detect/train2\u001b[0m\n",
            "Starting training for 20 epochs...\n",
            "\n",
            "      Epoch    GPU_mem   box_loss   cls_loss   dfl_loss  Instances       Size\n",
            "       1/20      2.44G      1.401      4.117      1.172         47        640: 100% 53/53 [01:25<00:00,  1.61s/it]\n",
            "                 Class     Images  Instances      Box(P          R      mAP50  mAP50-95): 100% 6/6 [00:11<00:00,  1.99s/it]\n",
            "                   all        172        507     0.0121        0.4     0.0652     0.0404\n",
            "\n",
            "      Epoch    GPU_mem   box_loss   cls_loss   dfl_loss  Instances       Size\n",
            "       2/20      2.55G      1.429      2.987      1.174         30        640: 100% 53/53 [01:26<00:00,  1.64s/it]\n",
            "                 Class     Images  Instances      Box(P          R      mAP50  mAP50-95): 100% 6/6 [00:11<00:00,  1.96s/it]\n",
            "                   all        172        507      0.802      0.127      0.163      0.112\n",
            "\n",
            "      Epoch    GPU_mem   box_loss   cls_loss   dfl_loss  Instances       Size\n",
            "       3/20      2.57G      1.403      2.339      1.175         31        640: 100% 53/53 [01:23<00:00,  1.58s/it]\n",
            "                 Class     Images  Instances      Box(P          R      mAP50  mAP50-95): 100% 6/6 [00:12<00:00,  2.01s/it]\n",
            "                   all        172        507      0.674       0.25      0.269      0.179\n",
            "\n",
            "      Epoch    GPU_mem   box_loss   cls_loss   dfl_loss  Instances       Size\n",
            "       4/20      2.58G      1.393      2.114      1.173         37        640: 100% 53/53 [01:24<00:00,  1.59s/it]\n",
            "                 Class     Images  Instances      Box(P          R      mAP50  mAP50-95): 100% 6/6 [00:12<00:00,  2.00s/it]\n",
            "                   all        172        507      0.709      0.334      0.302        0.2\n",
            "\n",
            "      Epoch    GPU_mem   box_loss   cls_loss   dfl_loss  Instances       Size\n",
            "       5/20       2.6G      1.329       1.93      1.138         43        640: 100% 53/53 [01:23<00:00,  1.57s/it]\n",
            "                 Class     Images  Instances      Box(P          R      mAP50  mAP50-95): 100% 6/6 [00:11<00:00,  1.98s/it]\n",
            "                   all        172        507      0.813      0.338      0.376      0.259\n",
            "\n",
            "      Epoch    GPU_mem   box_loss   cls_loss   dfl_loss  Instances       Size\n",
            "       6/20       2.6G      1.312      1.826       1.14         43        640: 100% 53/53 [01:24<00:00,  1.60s/it]\n",
            "                 Class     Images  Instances      Box(P          R      mAP50  mAP50-95): 100% 6/6 [00:11<00:00,  1.89s/it]\n",
            "                   all        172        507      0.683      0.393      0.414      0.295\n",
            "\n",
            "      Epoch    GPU_mem   box_loss   cls_loss   dfl_loss  Instances       Size\n",
            "       7/20      2.63G      1.258      1.696      1.128         33        640: 100% 53/53 [01:23<00:00,  1.57s/it]\n",
            "                 Class     Images  Instances      Box(P          R      mAP50  mAP50-95): 100% 6/6 [00:12<00:00,  2.04s/it]\n",
            "                   all        172        507      0.846      0.394      0.441      0.308\n",
            "\n",
            "      Epoch    GPU_mem   box_loss   cls_loss   dfl_loss  Instances       Size\n",
            "       8/20      2.64G      1.241      1.613      1.129         38        640: 100% 53/53 [01:24<00:00,  1.59s/it]\n",
            "                 Class     Images  Instances      Box(P          R      mAP50  mAP50-95): 100% 6/6 [00:11<00:00,  1.92s/it]\n",
            "                   all        172        507      0.748      0.412      0.451      0.316\n",
            "\n",
            "      Epoch    GPU_mem   box_loss   cls_loss   dfl_loss  Instances       Size\n",
            "       9/20      2.66G      1.224      1.532      1.104         32        640: 100% 53/53 [01:22<00:00,  1.56s/it]\n",
            "                 Class     Images  Instances      Box(P          R      mAP50  mAP50-95): 100% 6/6 [00:12<00:00,  2.04s/it]\n",
            "                   all        172        507      0.884      0.416      0.468       0.32\n",
            "\n",
            "      Epoch    GPU_mem   box_loss   cls_loss   dfl_loss  Instances       Size\n",
            "      10/20      2.66G      1.206      1.486      1.102         29        640: 100% 53/53 [01:25<00:00,  1.61s/it]\n",
            "                 Class     Images  Instances      Box(P          R      mAP50  mAP50-95): 100% 6/6 [00:10<00:00,  1.71s/it]\n",
            "                   all        172        507       0.73      0.405      0.481      0.343\n",
            "Closing dataloader mosaic\n",
            "\u001b[34m\u001b[1malbumentations: \u001b[0mBlur(p=0.01, blur_limit=(3, 7)), MedianBlur(p=0.01, blur_limit=(3, 7)), ToGray(p=0.01, num_output_channels=3, method='weighted_average'), CLAHE(p=0.01, clip_limit=(1.0, 4.0), tile_grid_size=(8, 8))\n",
            "\n",
            "      Epoch    GPU_mem   box_loss   cls_loss   dfl_loss  Instances       Size\n",
            "      11/20      2.69G      1.134      1.582      1.069         17        640: 100% 53/53 [01:32<00:00,  1.74s/it]\n",
            "                 Class     Images  Instances      Box(P          R      mAP50  mAP50-95): 100% 6/6 [00:09<00:00,  1.60s/it]\n",
            "                   all        172        507      0.658      0.454      0.525      0.372\n",
            "\n",
            "      Epoch    GPU_mem   box_loss   cls_loss   dfl_loss  Instances       Size\n",
            "      12/20       2.7G      1.122      1.497       1.06         22        640: 100% 53/53 [01:25<00:00,  1.61s/it]\n",
            "                 Class     Images  Instances      Box(P          R      mAP50  mAP50-95): 100% 6/6 [00:10<00:00,  1.80s/it]\n",
            "                   all        172        507      0.788      0.443      0.522      0.371\n",
            "\n",
            "      Epoch    GPU_mem   box_loss   cls_loss   dfl_loss  Instances       Size\n",
            "      13/20      2.72G      1.089      1.404      1.037         20        640: 100% 53/53 [01:23<00:00,  1.58s/it]\n",
            "                 Class     Images  Instances      Box(P          R      mAP50  mAP50-95): 100% 6/6 [00:11<00:00,  1.85s/it]\n",
            "                   all        172        507      0.879      0.454      0.557      0.395\n",
            "\n",
            "      Epoch    GPU_mem   box_loss   cls_loss   dfl_loss  Instances       Size\n",
            "      14/20      2.72G      1.081      1.351       1.04         21        640: 100% 53/53 [01:23<00:00,  1.58s/it]\n",
            "                 Class     Images  Instances      Box(P          R      mAP50  mAP50-95): 100% 6/6 [00:11<00:00,  1.91s/it]\n",
            "                   all        172        507      0.823      0.482      0.559      0.397\n",
            "\n",
            "      Epoch    GPU_mem   box_loss   cls_loss   dfl_loss  Instances       Size\n",
            "      15/20      2.75G       1.07      1.306      1.037         18        640: 100% 53/53 [01:22<00:00,  1.55s/it]\n",
            "                 Class     Images  Instances      Box(P          R      mAP50  mAP50-95): 100% 6/6 [00:12<00:00,  2.04s/it]\n",
            "                   all        172        507      0.766       0.54      0.593      0.409\n",
            "\n",
            "      Epoch    GPU_mem   box_loss   cls_loss   dfl_loss  Instances       Size\n",
            "      16/20      2.76G      1.043      1.262      1.019         24        640: 100% 53/53 [01:22<00:00,  1.56s/it]\n",
            "                 Class     Images  Instances      Box(P          R      mAP50  mAP50-95): 100% 6/6 [00:11<00:00,  1.91s/it]\n",
            "                   all        172        507      0.733      0.524      0.597      0.426\n",
            "\n",
            "      Epoch    GPU_mem   box_loss   cls_loss   dfl_loss  Instances       Size\n",
            "      17/20      2.78G      1.023      1.218      1.009         19        640: 100% 53/53 [01:24<00:00,  1.59s/it]\n",
            "                 Class     Images  Instances      Box(P          R      mAP50  mAP50-95): 100% 6/6 [00:11<00:00,  1.89s/it]\n",
            "                   all        172        507      0.764      0.509      0.603      0.424\n",
            "\n",
            "      Epoch    GPU_mem   box_loss   cls_loss   dfl_loss  Instances       Size\n",
            "      18/20      2.78G      1.012      1.181      1.005         22        640: 100% 53/53 [01:22<00:00,  1.56s/it]\n",
            "                 Class     Images  Instances      Box(P          R      mAP50  mAP50-95): 100% 6/6 [00:11<00:00,  1.95s/it]\n",
            "                   all        172        507      0.675      0.583      0.613      0.426\n",
            "\n",
            "      Epoch    GPU_mem   box_loss   cls_loss   dfl_loss  Instances       Size\n",
            "      19/20       2.8G      1.003      1.151      1.002         16        640: 100% 53/53 [01:22<00:00,  1.55s/it]\n",
            "                 Class     Images  Instances      Box(P          R      mAP50  mAP50-95): 100% 6/6 [00:12<00:00,  2.05s/it]\n",
            "                   all        172        507      0.775      0.553      0.619      0.436\n",
            "\n",
            "      Epoch    GPU_mem   box_loss   cls_loss   dfl_loss  Instances       Size\n",
            "      20/20      2.82G      1.008      1.133          1         21        640: 100% 53/53 [01:23<00:00,  1.58s/it]\n",
            "                 Class     Images  Instances      Box(P          R      mAP50  mAP50-95): 100% 6/6 [00:12<00:00,  2.01s/it]\n",
            "                   all        172        507      0.758      0.555      0.615      0.436\n",
            "\n",
            "20 epochs completed in 0.540 hours.\n",
            "Optimizer stripped from runs/detect/train2/weights/last.pt, 5.5MB\n",
            "Optimizer stripped from runs/detect/train2/weights/best.pt, 5.5MB\n",
            "\n",
            "Validating runs/detect/train2/weights/best.pt...\n",
            "Ultralytics 8.3.101 🚀 Python-3.11.11 torch-2.6.0+cu124 CUDA:0 (Tesla T4, 15095MiB)\n",
            "YOLO11n summary (fused): 100 layers, 2,584,882 parameters, 0 gradients, 6.3 GFLOPs\n",
            "                 Class     Images  Instances      Box(P          R      mAP50  mAP50-95): 100% 6/6 [00:15<00:00,  2.55s/it]\n",
            "                   all        172        507      0.758      0.555      0.614      0.435\n",
            "             Automaton         11         12      0.886      0.917      0.952      0.867\n",
            "                 Chest         13         14      0.805        0.5      0.573      0.421\n",
            "                 Fairy         13         13      0.846      0.615      0.619      0.453\n",
            "                 Fatui          8          9      0.544      0.444      0.597      0.459\n",
            "         Flying Animal          5          6      0.816      0.167      0.168      0.149\n",
            "             Hilichurl         53         90      0.742       0.64      0.746      0.484\n",
            "                   NPC         59        136      0.867      0.809      0.878      0.556\n",
            "                   Ore          8         18      0.719      0.285      0.573      0.294\n",
            "    Playable Character        132        153      0.878      0.898      0.927      0.705\n",
            "                 Slime         16         25      0.919       0.76      0.753      0.523\n",
            "   Statue of The Seven          7          7      0.798      0.567      0.546      0.469\n",
            "    Terrestrial Animal          8         15      0.381     0.0667      0.114     0.0899\n",
            "             The Abyss          5          5      0.802        0.6      0.734       0.44\n",
            "              Waypoint          4          4      0.606        0.5      0.416      0.183\n",
            "Speed: 0.2ms preprocess, 2.1ms inference, 0.0ms loss, 2.3ms postprocess per image\n",
            "Results saved to \u001b[1mruns/detect/train2\u001b[0m\n",
            "💡 Learn more at https://docs.ultralytics.com/modes/train\n"
          ]
        }
      ],
      "source": [
        "!yolo detect train data=/content/split_dataset/data_split.yaml model=yolo11n.pt epochs=20 imgsz=640"
      ]
    },
    {
      "cell_type": "markdown",
      "metadata": {
        "id": "4yKEV0EWFdGt"
      },
      "source": [
        "Testing with the validation folder"
      ]
    },
    {
      "cell_type": "code",
      "execution_count": null,
      "metadata": {
        "id": "4yBhUvqqFi_1",
        "colab": {
          "base_uri": "https://localhost:8080/"
        },
        "outputId": "76d20f06-7272-4077-959b-29bfd3b185e8"
      },
      "outputs": [
        {
          "output_type": "stream",
          "name": "stdout",
          "text": [
            "Ultralytics 8.3.101 🚀 Python-3.11.11 torch-2.6.0+cu124 CUDA:0 (Tesla T4, 15095MiB)\n",
            "YOLO11n summary (fused): 100 layers, 2,584,882 parameters, 0 gradients, 6.3 GFLOPs\n",
            "\n",
            "image 1/111 /content/split_dataset/test/images/0051bce2-20240831135123.png: 384x640 2 Playable Characters, 64.3ms\n",
            "image 2/111 /content/split_dataset/test/images/01013bc7-screenshot_20231125-013746_177.png: 416x640 4 NPCs, 1 Playable Character, 44.5ms\n",
            "image 3/111 /content/split_dataset/test/images/01bf8f32__bde1a248-Capture_d%C3%A9cran_106.png: 384x640 1 Playable Character, 1 Statue of The Seven, 9.7ms\n",
            "image 4/111 /content/split_dataset/test/images/05f423ff-screenshot_20231125-005608_52.png: 416x640 4 Hilichurls, 1 Playable Character, 9.6ms\n",
            "image 5/111 /content/split_dataset/test/images/077703d2-Genshin_Impact_3_24_2025_11_04_36_PM.png: 384x640 2 NPCs, 1 Playable Character, 9.6ms\n",
            "image 6/111 /content/split_dataset/test/images/08296227-screenshot_20231125-131010_462.png: 416x640 1 NPC, 9.3ms\n",
            "image 7/111 /content/split_dataset/test/images/09f66d9a-screenshot_20231125-012441_251.png: 416x640 1 NPC, 9.4ms\n",
            "image 8/111 /content/split_dataset/test/images/0a09ba77-20250316164315.png: 384x640 1 Playable Character, 9.7ms\n",
            "image 9/111 /content/split_dataset/test/images/0a4be5b8__9ea5d794-Capture_d%C3%A9cran_217.png: 384x640 1 NPC, 1 Playable Character, 8.6ms\n",
            "image 10/111 /content/split_dataset/test/images/0c597b2c__f60a37b8-Capture_d%C3%A9cran_190.png: 384x640 2 Fairys, 1 Playable Character, 8.9ms\n",
            "image 11/111 /content/split_dataset/test/images/0d0fb8ea__5a2502f9-Capture_d%C3%A9cran_111.png: 384x640 1 Chest, 1 Fatui, 1 Hilichurl, 2 NPCs, 1 Playable Character, 9.3ms\n",
            "image 12/111 /content/split_dataset/test/images/0f4f09f8-screenshot_20231124-233130_1.png: 416x640 1 Hilichurl, 1 Playable Character, 9.6ms\n",
            "image 13/111 /content/split_dataset/test/images/0ff50ba5-screenshot_20231124-233658_116.png: 416x640 1 Hilichurl, 2 Playable Characters, 8.9ms\n",
            "image 14/111 /content/split_dataset/test/images/11991fbd-screenshot_20231125-000838_61.png: 416x640 2 Hilichurls, 1 Playable Character, 13.5ms\n",
            "image 15/111 /content/split_dataset/test/images/129356d4-screenshot_20231125-130253_299.png: 416x640 1 Hilichurl, 9.0ms\n",
            "image 16/111 /content/split_dataset/test/images/17fe7c80-20221123234635.png: 384x640 1 Playable Character, 9.6ms\n",
            "image 17/111 /content/split_dataset/test/images/18a164e0-2f4d8120e4dc45445b3d8b086aaf83d0_2726610980424648316.png: 384x640 1 NPC, 1 Playable Character, 1 Terrestrial Animal, 8.8ms\n",
            "image 18/111 /content/split_dataset/test/images/1e5ba626-screenshot_20231124-233831_151.png: 416x640 1 Hilichurl, 1 Playable Character, 9.4ms\n",
            "image 19/111 /content/split_dataset/test/images/20b5c107-screenshot_20231125-005655_69.png: 416x640 1 Hilichurl, 1 NPC, 1 Playable Character, 12.0ms\n",
            "image 20/111 /content/split_dataset/test/images/26c548c3__c81a0435-Capture_d%C3%A9cran_169.png: 384x640 2 Fatuis, 1 NPC, 1 Playable Character, 9.7ms\n",
            "image 21/111 /content/split_dataset/test/images/26e0861f-screenshot_20231125-012931_16.png: 416x640 2 Hilichurls, 1 NPC, 9.6ms\n",
            "image 22/111 /content/split_dataset/test/images/2d65df5f-screenshot_20231125-012444_252.png: 416x640 4 NPCs, 1 Playable Character, 9.2ms\n",
            "image 23/111 /content/split_dataset/test/images/3083247e-screenshot_20231125-000950_85.png: 416x640 1 Hilichurl, 1 Playable Character, 1 Slime, 9.0ms\n",
            "image 24/111 /content/split_dataset/test/images/308b4264-screenshot_20231125-000922_75.png: 416x640 1 Hilichurl, 1 Playable Character, 1 Slime, 8.9ms\n",
            "image 25/111 /content/split_dataset/test/images/30d7d07c-screenshot_20231125-001432_176.png: 416x640 4 Hilichurls, 1 Playable Character, 8.9ms\n",
            "image 26/111 /content/split_dataset/test/images/39ae3dcd__b51cc0a7-Capture_d%C3%A9cran_20.png: 384x640 1 Playable Character, 1 Statue of The Seven, 14.9ms\n",
            "image 27/111 /content/split_dataset/test/images/3a9aa34f-screenshot_20231124-233844_156.png: 416x640 1 Hilichurl, 1 Playable Character, 10.2ms\n",
            "image 28/111 /content/split_dataset/test/images/3aa8eaa9__47d3309c-Capture_d%C3%A9cran_43.png: 384x640 2 Hilichurls, 1 Playable Character, 9.5ms\n",
            "image 29/111 /content/split_dataset/test/images/3e02354a__7d634b80-Capture_d%C3%A9cran_37.png: 384x640 1 Playable Character, 1 Statue of The Seven, 1 Waypoint, 8.6ms\n",
            "image 30/111 /content/split_dataset/test/images/44a69cca__e2b705f9-Capture_d%C3%A9cran_78.png: 384x640 1 NPC, 1 Playable Character, 1 Statue of The Seven, 9.1ms\n",
            "image 31/111 /content/split_dataset/test/images/482720e7-screenshot_20231125-130413_330.png: 416x640 1 Hilichurl, 9.3ms\n",
            "image 32/111 /content/split_dataset/test/images/4b212fb5-screenshot_20231125-013151_65.png: 416x640 1 Chest, 1 Playable Character, 9.0ms\n",
            "image 33/111 /content/split_dataset/test/images/4bab3b09-screenshot_20231125-003352_5.png: 416x640 1 Playable Character, 12.6ms\n",
            "image 34/111 /content/split_dataset/test/images/4d937e09-genshinDomain.png: 384x640 1 Playable Character, 9.6ms\n",
            "image 35/111 /content/split_dataset/test/images/4e36d14c-screenshot_20231125-001409_168.png: 416x640 2 Hilichurls, 1 Playable Character, 9.7ms\n",
            "image 36/111 /content/split_dataset/test/images/4e9850e5-screenshot_20231125-015015_422.png: 416x640 1 NPC, 3 Playable Characters, 9.2ms\n",
            "image 37/111 /content/split_dataset/test/images/522ba8eb-screenshot_20231125-130248_297.png: 416x640 1 Hilichurl, 8.9ms\n",
            "image 38/111 /content/split_dataset/test/images/534ffb9a-screenshot_20231125-014142_249.png: 416x640 2 NPCs, 9.1ms\n",
            "image 39/111 /content/split_dataset/test/images/55049c86__97e60b14-Capture_d%C3%A9cran_108.png: 384x640 1 Chest, 1 Playable Character, 10.6ms\n",
            "image 40/111 /content/split_dataset/test/images/5637d1c5-screenshot_20231125-130030_244.png: 416x640 1 Hilichurl, 1 Slime, 9.7ms\n",
            "image 41/111 /content/split_dataset/test/images/5788444f__93262d61-Capture_d%C3%A9cran_28.png: 384x640 1 Automaton, 1 Playable Character, 10.2ms\n",
            "image 42/111 /content/split_dataset/test/images/5aa9476a-screenshot_20231124-233504_79.png: 416x640 1 Playable Character, 9.4ms\n",
            "image 43/111 /content/split_dataset/test/images/5ce97f23-screenshot_20231125-014004_216.png: 416x640 4 NPCs, 2 Playable Characters, 11.9ms\n",
            "image 44/111 /content/split_dataset/test/images/5e729727-20211026183636.png: 384x640 1 Automaton, 13.3ms\n",
            "image 45/111 /content/split_dataset/test/images/5e925e0a-screenshot_20231125-000642_18.png: 416x640 1 Hilichurl, 1 Playable Character, 13.2ms\n",
            "image 46/111 /content/split_dataset/test/images/60b2c9a8-screenshot_20231125-011732_109.png: 416x640 3 NPCs, 11.9ms\n",
            "image 47/111 /content/split_dataset/test/images/64ed7888__7a6e6201-Capture_d%C3%A9cran_27.png: 384x640 1 Automaton, 2 Playable Characters, 11.9ms\n",
            "image 48/111 /content/split_dataset/test/images/66ddc722__fba16d24-Capture_d%C3%A9cran_33.png: 384x640 1 NPC, 1 Playable Character, 1 Statue of The Seven, 11.9ms\n",
            "image 49/111 /content/split_dataset/test/images/6965e6f8-screenshot_20231125-013240_83.png: 416x640 1 Chest, 1 Playable Character, 11.8ms\n",
            "image 50/111 /content/split_dataset/test/images/69a38b81__125da778-Capture_d%C3%A9cran_199.png: 384x640 1 Fairy, 2 NPCs, 1 Playable Character, 13.3ms\n",
            "image 51/111 /content/split_dataset/test/images/6adc1c9c-screenshot_20231125-125531_126.png: 416x640 1 Slime, 13.0ms\n",
            "image 52/111 /content/split_dataset/test/images/6c1be106-screenshot_20231125-125926_218.png: 416x640 1 Hilichurl, 17.0ms\n",
            "image 53/111 /content/split_dataset/test/images/6cc4e5db-screenshot_20231125-000112_0.png: 416x640 1 Hilichurl, 2 Playable Characters, 8.9ms\n",
            "image 54/111 /content/split_dataset/test/images/6d14078e-Genshin_Impact_31_03_2025_23_41_21.png: 384x640 1 Playable Character, 1 Statue of The Seven, 9.4ms\n",
            "image 55/111 /content/split_dataset/test/images/72f57a30-screenshot_20231125-013226_78.png: 416x640 1 Chest, 16.9ms\n",
            "image 56/111 /content/split_dataset/test/images/75196a79-screenshot_20231125-005453_28.png: 416x640 1 Playable Character, 9.1ms\n",
            "image 57/111 /content/split_dataset/test/images/775a4f90-Genshin_Impact_3_24_2025_11_01_00_PM.png: 384x640 2 NPCs, 1 Playable Character, 9.4ms\n",
            "image 58/111 /content/split_dataset/test/images/78651cf8-screenshot_20231125-130238_293.png: 416x640 1 Hilichurl, 9.5ms\n",
            "image 59/111 /content/split_dataset/test/images/79277237-Genshin_Impact_31_03_2025_23_45_26.png: 384x640 1 Chest, 1 NPC, 1 Playable Character, 1 Statue of The Seven, 1 Waypoint, 13.8ms\n",
            "image 60/111 /content/split_dataset/test/images/7a4f03d0-screenshot_20231125-130423_334.png: 416x640 1 Hilichurl, 9.6ms\n",
            "image 61/111 /content/split_dataset/test/images/7ad61075-screenshot_20231125-125328_73.png: 416x640 1 Slime, 9.0ms\n",
            "image 62/111 /content/split_dataset/test/images/7aeb787f__6e4888ef-Capture_d%C3%A9cran_224.png: 384x640 1 Automaton, 1 Chest, 1 Playable Character, 9.9ms\n",
            "image 63/111 /content/split_dataset/test/images/7c468eff-202152912488.png: 384x640 1 Hilichurl, 1 Playable Character, 8.6ms\n",
            "image 64/111 /content/split_dataset/test/images/7cc1c1bc-32db6687adc170a1404f2d504e5138b7_671602562824328573.png: 384x640 1 Playable Character, 10.2ms\n",
            "image 65/111 /content/split_dataset/test/images/7ce05401-screenshot_20231125-014257_274.png: 416x640 5 Hilichurls, 1 Playable Character, 9.6ms\n",
            "image 66/111 /content/split_dataset/test/images/8503996c-screenshot_20231124-233152_9.png: 416x640 2 Hilichurls, 1 Playable Character, 9.2ms\n",
            "image 67/111 /content/split_dataset/test/images/89d1253c-17a40509f347c938d68cb60f2ecc765e_3040815984613623296.png: 320x640 3 Terrestrial Animals, 47.1ms\n",
            "image 68/111 /content/split_dataset/test/images/8d5ea4dd-screenshot_20231125-005614_54.png: 416x640 5 Hilichurls, 1 Playable Character, 17.1ms\n",
            "image 69/111 /content/split_dataset/test/images/8ef0cbf6-screenshot_20231125-001406_167.png: 416x640 2 Hilichurls, 1 Playable Character, 9.3ms\n",
            "image 70/111 /content/split_dataset/test/images/90dc5e71__a905bd8b-Capture_d%C3%A9cran_66.png: 384x640 1 Automaton, 1 Fatui, 1 Playable Character, 9.5ms\n",
            "image 71/111 /content/split_dataset/test/images/984360f8__a291cd15-Capture_d%C3%A9cran_24.png: 384x640 1 Chest, 1 Fairy, 2 Hilichurls, 1 Playable Character, 8.8ms\n",
            "image 72/111 /content/split_dataset/test/images/9a479062__237009da-Capture_d%C3%A9cran_207.png: 384x640 1 Fairy, 1 Playable Character, 10.9ms\n",
            "image 73/111 /content/split_dataset/test/images/a1e8c77e-screenshot_20231125-125322_70.png: 416x640 1 Slime, 12.9ms\n",
            "image 74/111 /content/split_dataset/test/images/a4993250-screenshot_20231125-125548_133.png: 416x640 1 Slime, 9.0ms\n",
            "image 75/111 /content/split_dataset/test/images/a49e2a46-Photos_31_03_2025_23_28_39.png: 384x640 1 Playable Character, 9.7ms\n",
            "image 76/111 /content/split_dataset/test/images/a5c702e8__f20b080f-Capture_d%C3%A9cran_100.png: 384x640 1 Chest, 2 Fatuis, 1 Playable Character, 8.9ms\n",
            "image 77/111 /content/split_dataset/test/images/a6ce3153-2021529124916.png: 384x640 1 Hilichurl, 1 Playable Character, 9.1ms\n",
            "image 78/111 /content/split_dataset/test/images/a7ad4edc-202182395930.png: 384x640 1 Chest, 1 Fairy, 2 Playable Characters, 8.8ms\n",
            "image 79/111 /content/split_dataset/test/images/aa17202c__90503bc9-Capture_d%C3%A9cran_226.png: 384x640 1 Chest, 3 NPCs, 1 Playable Character, 8.8ms\n",
            "image 80/111 /content/split_dataset/test/images/abd6fe6b-screenshot_20231125-012920_12.png: 416x640 4 Hilichurls, 9.6ms\n",
            "image 81/111 /content/split_dataset/test/images/ac509ba9-screenshot_20231125-011735_110.png: 416x640 2 NPCs, 1 Playable Character, 9.5ms\n",
            "image 82/111 /content/split_dataset/test/images/b180894a-20220617092755.png: 384x640 1 Playable Character, 9.4ms\n",
            "image 83/111 /content/split_dataset/test/images/b2705cff-screenshot_20231125-005833_100.png: 416x640 3 Hilichurls, 1 Playable Character, 9.6ms\n",
            "image 84/111 /content/split_dataset/test/images/b455c2d9-screenshot_20231124-233727_127.png: 416x640 2 Hilichurls, 2 Playable Characters, 2 Slimes, 12.3ms\n",
            "image 85/111 /content/split_dataset/test/images/b9104387__fa30d365-Capture_d%C3%A9cran_129.png: 384x640 1 Playable Character, 9.6ms\n",
            "image 86/111 /content/split_dataset/test/images/b93ecd50__5cdcee75-Capture_d%C3%A9cran_42.png: 384x640 1 Fatui, 2 Hilichurls, 2 Playable Characters, 9.0ms\n",
            "image 87/111 /content/split_dataset/test/images/b9a262d2-screenshot_20231125-130459_348.png: 416x640 1 Hilichurl, 9.7ms\n",
            "image 88/111 /content/split_dataset/test/images/c0987257-2021529161725.png: 384x640 1 NPC, 2 Playable Characters, 9.5ms\n",
            "image 89/111 /content/split_dataset/test/images/c30667c9-Genshin_Impact_3_24_2025_11_02_37_PM.png: 384x640 4 NPCs, 1 Playable Character, 9.0ms\n",
            "image 90/111 /content/split_dataset/test/images/c44b65b2-screenshot_20231124-233149_8.png: 416x640 2 Hilichurls, 1 Playable Character, 9.6ms\n",
            "image 91/111 /content/split_dataset/test/images/c464459e__19ca8584-Capture_d%C3%A9cran_250.png: 384x640 1 Fairy, 2 Playable Characters, 9.6ms\n",
            "image 92/111 /content/split_dataset/test/images/c823fdf0-screenshot_20231125-130211_282.png: 416x640 1 Hilichurl, 9.6ms\n",
            "image 93/111 /content/split_dataset/test/images/cf13890c-screenshot_20231125-004733_45.png: 416x640 1 Hilichurl, 1 Playable Character, 9.3ms\n",
            "image 94/111 /content/split_dataset/test/images/cf2cd94d-screenshot_20231125-131005_460.png: 416x640 1 NPC, 9.0ms\n",
            "image 95/111 /content/split_dataset/test/images/d444adf5-screenshot_20231125-011755_117.png: 416x640 1 NPC, 13.8ms\n",
            "image 96/111 /content/split_dataset/test/images/d584b5d7-screenshot_20231125-005603_50.png: 416x640 3 Hilichurls, 1 Playable Character, 9.3ms\n",
            "image 97/111 /content/split_dataset/test/images/d64bcca6__7b38b1f5-Capture_d%C3%A9cran_234.png: 384x640 1 Fairy, 1 Fatui, 1 Playable Character, 12.7ms\n",
            "image 98/111 /content/split_dataset/test/images/d72551cd-screenshot_20231125-125550_134.png: 416x640 1 Slime, 10.8ms\n",
            "image 99/111 /content/split_dataset/test/images/d7d4761e-screenshot_20231125-011723_106.png: 416x640 2 NPCs, 9.1ms\n",
            "image 100/111 /content/split_dataset/test/images/d89b00b5-screenshot_20231125-130621_379.png: 416x640 1 The Abyss, 9.1ms\n",
            "image 101/111 /content/split_dataset/test/images/e183efda-20250316163955.png: 384x640 1 Playable Character, 9.9ms\n",
            "image 102/111 /content/split_dataset/test/images/e4aaee9f-202193021828.png: 384x640 2 NPCs, 2 Playable Characters, 9.2ms\n",
            "image 103/111 /content/split_dataset/test/images/ea0102ba__5f942606-Capture_d%C3%A9cran_163.png: 384x640 1 Fatui, 1 NPC, 1 Playable Character, 9.4ms\n",
            "image 104/111 /content/split_dataset/test/images/ebff9bb0-screenshot_20231124-233340_47.png: 416x640 3 Hilichurls, 2 Playable Characters, 9.6ms\n",
            "image 105/111 /content/split_dataset/test/images/f0718131-screenshot_20231125-014727_362.png: 416x640 1 NPC, 9.1ms\n",
            "image 106/111 /content/split_dataset/test/images/f37ef9b0-screenshot_20231125-013107_48.png: 416x640 1 Chest, 1 Hilichurl, 1 Playable Character, 9.3ms\n",
            "image 107/111 /content/split_dataset/test/images/f68fcf8c-screenshot_20231125-003630_62.png: 416x640 3 Hilichurls, 1 Playable Character, 9.0ms\n",
            "image 108/111 /content/split_dataset/test/images/f7346d1a-screenshot_20231125-011414_37.png: 416x640 1 NPC, 1 Playable Character, 9.1ms\n",
            "image 109/111 /content/split_dataset/test/images/f8d6870e-screenshot_20231125-013933_205.png: 416x640 3 NPCs, 9.1ms\n",
            "image 110/111 /content/split_dataset/test/images/fc9c5bca-202162161337.png: 384x640 1 Terrestrial Animal, 9.7ms\n",
            "image 111/111 /content/split_dataset/test/images/ff56daa3-20250316170403.png: 384x640 1 Ore, 1 Waypoint, 9.3ms\n",
            "Speed: 2.6ms preprocess, 11.3ms inference, 4.1ms postprocess per image at shape (1, 3, 384, 640)\n",
            "Results saved to \u001b[1mruns/detect/predict\u001b[0m\n",
            "💡 Learn more at https://docs.ultralytics.com/modes/predict\n"
          ]
        }
      ],
      "source": [
        "!yolo detect predict model=runs/detect/train2/weights/best.pt source=/content/split_dataset/test/images save=True"
      ]
    },
    {
      "cell_type": "code",
      "execution_count": null,
      "metadata": {
        "id": "P20mQm6MFus3"
      },
      "outputs": [],
      "source": [
        "import glob\n",
        "from IPython.display import Image, display\n",
        "for image_path in glob.glob(f'/content/runs/detect/predict/*.jpg')[10:50]:\n",
        "  display(Image(filename=image_path, height=400))\n",
        "  print('\\n')"
      ]
    }
  ],
  "metadata": {
    "colab": {
      "gpuType": "T4",
      "provenance": []
    },
    "kernelspec": {
      "display_name": "Python 3",
      "name": "python3"
    },
    "language_info": {
      "name": "python"
    }
  },
  "nbformat": 4,
  "nbformat_minor": 0
}